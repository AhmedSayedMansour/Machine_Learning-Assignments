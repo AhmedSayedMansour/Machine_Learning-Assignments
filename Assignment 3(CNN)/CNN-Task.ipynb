{
 "metadata": {
  "language_info": {
   "codemirror_mode": {
    "name": "ipython",
    "version": 3
   },
   "file_extension": ".py",
   "mimetype": "text/x-python",
   "name": "python",
   "nbconvert_exporter": "python",
   "pygments_lexer": "ipython3",
   "version": "3.8.3-final"
  },
  "orig_nbformat": 2,
  "kernelspec": {
   "name": "python_defaultSpec_1610984195380",
   "display_name": "Python 3.8.3 64-bit"
  }
 },
 "nbformat": 4,
 "nbformat_minor": 2,
 "cells": [
  {
   "cell_type": "code",
   "execution_count": 1,
   "metadata": {},
   "outputs": [],
   "source": [
    "import numpy as np\n",
    "import pandas as pd\n",
    "import matplotlib.pyplot as plt\n",
    "from keras.datasets import mnist\n",
    "from keras.models import Sequential\n",
    "from keras.layers import Dense, Dropout, Activation, Flatten\n",
    "from keras.optimizers import Adam\n",
    "from sklearn.model_selection import KFold\n",
    "from keras.layers.normalization import BatchNormalization\n",
    "from keras.utils import np_utils\n",
    "from keras.layers import Conv2D, MaxPooling2D, ZeroPadding2D, GlobalAveragePooling2D"
   ]
  },
  {
   "cell_type": "code",
   "execution_count": 2,
   "metadata": {
    "tags": []
   },
   "outputs": [
    {
     "output_type": "execute_result",
     "data": {
      "text/plain": "(60000, 28, 28)"
     },
     "metadata": {},
     "execution_count": 2
    }
   ],
   "source": [
    "(X_train, y_train), (X_test, y_test) = mnist.load_data()\n",
    "X_train.shape"
   ]
  },
  {
   "cell_type": "code",
   "execution_count": 3,
   "metadata": {
    "tags": []
   },
   "outputs": [
    {
     "output_type": "execute_result",
     "data": {
      "text/plain": "(60000, 28, 28, 1)"
     },
     "metadata": {},
     "execution_count": 3
    }
   ],
   "source": [
    "## reshaping format to (batch, height, width, channels). As all the images are in grayscale, the number of channels is 1\n",
    "X_train = X_train.reshape(X_train.shape[0], 28, 28, 1)\n",
    "X_test = X_test.reshape(X_test.shape[0], 28, 28, 1)\n",
    "\n",
    "## Convert Datatype of pixels to float \n",
    "X_train = X_train.astype('float32')\n",
    "X_test = X_test.astype('float32')\n",
    "\n",
    "## normalize to range 0-1 by Dividing each image by 255\n",
    "X_train/=255\n",
    "X_test/=255\n",
    "\n",
    "X_train.shape"
   ]
  },
  {
   "cell_type": "code",
   "execution_count": 4,
   "metadata": {
    "tags": []
   },
   "outputs": [
    {
     "output_type": "execute_result",
     "data": {
      "text/plain": "(5, array([0., 0., 0., 0., 0., 1., 0., 0., 0., 0.], dtype=float32))"
     },
     "metadata": {},
     "execution_count": 4
    }
   ],
   "source": [
    "#converting output into a layer output\n",
    "number_of_classes = 10\n",
    "\n",
    "Y_train = np_utils.to_categorical(y_train, number_of_classes)\n",
    "Y_test = np_utils.to_categorical(y_test, number_of_classes)\n",
    "\n",
    "y_train[0], Y_train[0]"
   ]
  },
  {
   "cell_type": "code",
   "execution_count": 5,
   "metadata": {
    "tags": []
   },
   "outputs": [],
   "source": [
    "# Architecture One\n",
    "def defineModelArch1():\n",
    "    model = Sequential()\n",
    "    model.add(Conv2D(32, (3, 3), input_shape=(28,28,1)))    #first layer\n",
    "    model.add(Activation('relu'))\n",
    "    BatchNormalization(axis=-1)\n",
    "\n",
    "    model.add(Conv2D(32, (3, 3)))\n",
    "    model.add(Activation('relu'))\n",
    "    model.add(MaxPooling2D(pool_size=(2,2)))\n",
    "    BatchNormalization(axis=-1)     #normalizes the matrix\n",
    "\n",
    "    model.add(Conv2D(64,(3, 3)))\n",
    "    model.add(Activation('relu'))\n",
    "    BatchNormalization(axis=-1)\n",
    "\n",
    "    model.add(Conv2D(64, (3, 3)))\n",
    "    model.add(Activation('relu'))\n",
    "    model.add(MaxPooling2D(pool_size=(2,2)))\n",
    "\n",
    "    model.add(Flatten())\n",
    "\n",
    "    BatchNormalization()\n",
    "    model.add(Dense(512))\n",
    "    model.add(Activation('relu'))\n",
    "    BatchNormalization()\n",
    "    model.add(Dropout(0.2))     #to reduce overfitting\n",
    "    model.add(Dense(10))\n",
    "    model.add(Activation('softmax'))\n",
    "    #model.summary()\n",
    "    model.compile(loss='categorical_crossentropy', optimizer=Adam(), metrics=['accuracy'])\n",
    "    return model"
   ]
  },
  {
   "cell_type": "code",
   "execution_count": 6,
   "metadata": {
    "tags": []
   },
   "outputs": [],
   "source": [
    "# Architecture Two \n",
    "def defineModelArch2():\n",
    "    model2 = Sequential()\n",
    "    model2.add(Conv2D(32, (3, 3), input_shape=(28,28,1)))\n",
    "    model2.add(Activation('relu'))\n",
    "    BatchNormalization(axis=-1)\n",
    "    model2.add(MaxPooling2D(pool_size=(2,2)))\n",
    "\n",
    "    model2.add(Flatten())\n",
    "    # Fully connected layer\n",
    "    BatchNormalization()\n",
    "    model2.add(Dense(512))\n",
    "    model2.add(Activation('relu'))\n",
    "    BatchNormalization()\n",
    "    model2.add(Dropout(0.2))     #to reduce overfitting\n",
    "    model2.add(Dense(10))\n",
    "    model2.add(Activation('softmax'))\n",
    "    model2.compile(loss='categorical_crossentropy', optimizer=Adam(), metrics=['accuracy'])\n",
    "    return model2"
   ]
  },
  {
   "cell_type": "code",
   "execution_count": 14,
   "metadata": {
    "tags": []
   },
   "outputs": [],
   "source": [
    "# Architecture Three \n",
    "def defineModelArch3():\n",
    "    model3 = Sequential()\n",
    "    model3.add(Conv2D(64, (3, 3), input_shape=(28,28,1)))\n",
    "    model3.add(Activation('relu'))\n",
    "    BatchNormalization(axis=-1)\n",
    "    model3.add(MaxPooling2D(pool_size=(4,4)))\n",
    "\n",
    "    model3.add(Flatten())\n",
    "    # Fully connected layer\n",
    "    BatchNormalization()\n",
    "    model3.add(Dense(512))\n",
    "    model3.add(Activation('relu'))\n",
    "    BatchNormalization()\n",
    "    model3.add(Dropout(0.2))     #to reduce overfitting\n",
    "    model3.add(Dense(10))\n",
    "    model3.add(Activation('softmax'))\n",
    "\n",
    "    model3.compile(loss='categorical_crossentropy', optimizer=Adam(), metrics=['accuracy'])\n",
    "    return model3"
   ]
  },
  {
   "cell_type": "code",
   "execution_count": 8,
   "metadata": {
    "tags": []
   },
   "outputs": [],
   "source": [
    "# Architecture Four \n",
    "def defineModelArch4():\n",
    "    model4 = Sequential()\n",
    "    model4.add(Conv2D(32, (3, 3), input_shape=(28,28,1)))    #first layer\n",
    "    model4.add(Activation('relu'))\n",
    "    BatchNormalization(axis=-1)\n",
    "\n",
    "    model4.add(Conv2D(32, (3, 3)))\n",
    "    model4.add(Activation('relu'))\n",
    "    model4.add(MaxPooling2D(pool_size=(4,4)))\n",
    "    BatchNormalization(axis=-1)     #normalizes the matrix\n",
    "\n",
    "    model4.add(Conv2D(64,(3, 3)))\n",
    "    model4.add(Activation('relu'))\n",
    "    BatchNormalization(axis=-1)\n",
    "\n",
    "    model4.add(Conv2D(64, (3, 3)))\n",
    "    model4.add(Activation('relu'))\n",
    "    model4.add(MaxPooling2D(pool_size=(2,2)))\n",
    "\n",
    "    model4.add(Flatten())\n",
    "    # Fully connected layer\n",
    "    BatchNormalization()\n",
    "    model4.add(Dense(512))\n",
    "    model4.add(Activation('relu'))\n",
    "    BatchNormalization()\n",
    "    model4.add(Dropout(0.2))     #to reduce overfitting\n",
    "    model4.add(Dense(10))\n",
    "    model4.add(Activation('softmax'))\n",
    "\n",
    "    model4.compile(loss='categorical_crossentropy', optimizer=Adam(), metrics=['accuracy'])\n",
    "    return model4"
   ]
  },
  {
   "cell_type": "code",
   "execution_count": 9,
   "metadata": {},
   "outputs": [],
   "source": [
    "# evaluate a model using k-fold cross-validation\n",
    "def evaluate_Summerize_model(dataX, dataY, model, n_folds=5):\n",
    "\t# prepare cross validation\n",
    "\tkfold = KFold(n_folds, shuffle=True, random_state=1)\n",
    "\t# enumerate splits\n",
    "\tfor train_ix, test_ix in kfold.split(dataX):\n",
    "        # select rows for train and test\n",
    "\t\ttrainX, trainY, testX, testY = dataX[train_ix], dataY[train_ix], dataX[test_ix], dataY[test_ix]\n",
    "\t\t# fit model\n",
    "\t\tmodel.fit(trainX, trainY, epochs=1, steps_per_epoch=trainX.shape[0])\n",
    "\t\t# evaluate model\n",
    "\t\tresult = model.evaluate(testX, testY, steps = testX.shape[0])\n",
    "\t\tprint('Accurcy :','> %.3f' % (result[1] * 100.0))"
   ]
  },
  {
   "cell_type": "code",
   "execution_count": 10,
   "metadata": {
    "tags": []
   },
   "outputs": [
    {
     "output_type": "stream",
     "name": "stdout",
     "text": "48000/48000 [==============================] - 623s 13ms/step - loss: 0.1461 - accuracy: 0.9578\n12000/12000 [==============================] - 45s 4ms/step - loss: 0.0939 - accuracy: 0.9752\nAccurcy : > 97.517\n48000/48000 [==============================] - 654s 14ms/step - loss: 0.0905 - accuracy: 0.9752\n12000/12000 [==============================] - 45s 4ms/step - loss: 0.0695 - accuracy: 0.9798\nAccurcy : > 97.983\n48000/48000 [==============================] - 653s 14ms/step - loss: 0.0863 - accuracy: 0.9770\n12000/12000 [==============================] - 46s 4ms/step - loss: 0.0782 - accuracy: 0.9783\nAccurcy : > 97.833\n48000/48000 [==============================] - 659s 14ms/step - loss: 0.0812 - accuracy: 0.9788\n12000/12000 [==============================] - 47s 4ms/step - loss: 0.1067 - accuracy: 0.9663\nAccurcy : > 96.625\n48000/48000 [==============================] - 663s 14ms/step - loss: 0.0817 - accuracy: 0.9778\n12000/12000 [==============================] - 47s 4ms/step - loss: 0.0722 - accuracy: 0.9835\nAccurcy : > 98.350\n"
    }
   ],
   "source": [
    "# Architecture One\n",
    "model = defineModelArch1()\n",
    "evaluate_Summerize_model(X_train, Y_train, model, n_folds=5)"
   ]
  },
  {
   "cell_type": "code",
   "execution_count": 11,
   "metadata": {
    "tags": []
   },
   "outputs": [
    {
     "output_type": "stream",
     "name": "stdout",
     "text": "48000/48000 [==============================] - 1084s 23ms/step - loss: 0.1365 - accuracy: 0.9595\n12000/12000 [==============================] - 25s 2ms/step - loss: 0.0734 - accuracy: 0.9773\nAccurcy : > 97.733\n48000/48000 [==============================] - 1008s 21ms/step - loss: 0.0725 - accuracy: 0.9801\n12000/12000 [==============================] - 26s 2ms/step - loss: 0.0501 - accuracy: 0.9842\nAccurcy : > 98.417\n48000/48000 [==============================] - 1030s 21ms/step - loss: 0.0625 - accuracy: 0.9839\n12000/12000 [==============================] - 26s 2ms/step - loss: 0.0470 - accuracy: 0.9844\nAccurcy : > 98.442\n48000/48000 [==============================] - 1053s 22ms/step - loss: 0.0527 - accuracy: 0.9857\n12000/12000 [==============================] - 46s 4ms/step - loss: 0.0306 - accuracy: 0.9919\nAccurcy : > 99.192\n48000/48000 [==============================] - 1136s 24ms/step - loss: 0.0486 - accuracy: 0.9872\n12000/12000 [==============================] - 27s 2ms/step - loss: 0.0348 - accuracy: 0.9906\nAccurcy : > 99.058\n"
    }
   ],
   "source": [
    "# Architecture Two\n",
    "model = defineModelArch2()\n",
    "evaluate_Summerize_model(X_train, Y_train, model, n_folds=5)"
   ]
  },
  {
   "cell_type": "code",
   "execution_count": 17,
   "metadata": {
    "tags": []
   },
   "outputs": [
    {
     "output_type": "stream",
     "name": "stdout",
     "text": "40000/40000 [==============================] - 393s 10ms/step - loss: 0.1429 - accuracy: 0.9568\n20000/20000 [==============================] - 28s 1ms/step - loss: 0.1462 - accuracy: 0.9588\nAccurcy : > 95.880\n40000/40000 [==============================] - 372s 9ms/step - loss: 0.0779 - accuracy: 0.9771\n20000/20000 [==============================] - 28s 1ms/step - loss: 0.0542 - accuracy: 0.9847\nAccurcy : > 98.465\n40000/40000 [==============================] - 373s 9ms/step - loss: 0.0705 - accuracy: 0.9799\n20000/20000 [==============================] - 29s 1ms/step - loss: 0.0449 - accuracy: 0.9880\nAccurcy : > 98.795\n"
    }
   ],
   "source": [
    "# Architecture Three\n",
    "model = defineModelArch3()\n",
    "evaluate_Summerize_model(X_train, Y_train, model, n_folds=3)"
   ]
  },
  {
   "cell_type": "code",
   "execution_count": 13,
   "metadata": {
    "tags": []
   },
   "outputs": [
    {
     "output_type": "stream",
     "name": "stdout",
     "text": "30000/30000 [==============================] - 121s 4ms/step - loss: 0.2142 - accuracy: 0.9358\n30000/30000 [==============================] - 39s 1ms/step - loss: 0.1189 - accuracy: 0.9709\nAccurcy : > 97.090\n30000/30000 [==============================] - 135s 5ms/step - loss: 0.1206 - accuracy: 0.9685\n30000/30000 [==============================] - 60s 2ms/step - loss: 0.0879 - accuracy: 0.9780\nAccurcy : > 97.797\n"
    }
   ],
   "source": [
    "# Architecture Four\n",
    "model = defineModelArch4()\n",
    "evaluate_Summerize_model(X_train, Y_train, model, n_folds=2)"
   ]
  }
 ]
}