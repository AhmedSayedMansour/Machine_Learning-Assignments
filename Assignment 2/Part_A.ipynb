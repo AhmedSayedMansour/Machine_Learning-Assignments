{
 "metadata": {
  "language_info": {
   "codemirror_mode": {
    "name": "ipython",
    "version": 3
   },
   "file_extension": ".py",
   "mimetype": "text/x-python",
   "name": "python",
   "nbconvert_exporter": "python",
   "pygments_lexer": "ipython3",
   "version": "3.8.3-final"
  },
  "orig_nbformat": 2,
  "kernelspec": {
   "name": "python_defaultSpec_1609220524151",
   "display_name": "Python 3.8.3 64-bit"
  }
 },
 "nbformat": 4,
 "nbformat_minor": 2,
 "cells": [
  {
   "cell_type": "code",
   "execution_count": 1,
   "metadata": {},
   "outputs": [],
   "source": [
    "import numpy as np\n",
    "import matplotlib.pyplot as plt\n",
    "import pandas as pd"
   ]
  },
  {
   "cell_type": "code",
   "execution_count": 21,
   "metadata": {
    "tags": []
   },
   "outputs": [],
   "source": [
    "#Reading data\n",
    "datafile = 'Part_A_Dataset/house-votes-84.data.txt'\n",
    "cols = np.genfromtxt(datafile,dtype='str',delimiter=',')\n",
    "# X-->inputs Y-->outputs\n",
    "X = np.array(cols[:,1:])\n",
    "y = np.array(cols[:,0])"
   ]
  },
  {
   "cell_type": "code",
   "execution_count": 2,
   "metadata": {},
   "outputs": [],
   "source": [
    "class Node(object):\n",
    "    def __init__(self):\n",
    "        self.value = None\n",
    "        self.decision = None\n",
    "        self.childs = None"
   ]
  },
  {
   "cell_type": "code",
   "execution_count": null,
   "metadata": {},
   "outputs": [],
   "source": [
    "def findEntropy(data, rows):\n",
    "    yes = 0\n",
    "    no = 0\n",
    "    ans = -1\n",
    "    idx = len(data[0]) - 1\n",
    "    entropy = 0\n",
    "    for i in rows:\n",
    "        if data[i][idx] == 'Yes':\n",
    "            yes = yes + 1\n",
    "        else:\n",
    "            no = no + 1\n",
    "\n",
    "    x = yes/(yes+no)\n",
    "    y = no/(yes+no)\n",
    "    if x != 0 and y != 0:\n",
    "        entropy = -1 * (x*math.log2(x) + y*math.log2(y))\n",
    "    if x == 1:\n",
    "        ans = 1\n",
    "    if y == 1:\n",
    "        ans = 0\n",
    "    return entropy, ans"
   ]
  }
 ]
}