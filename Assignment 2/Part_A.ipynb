{
 "metadata": {
  "language_info": {
   "codemirror_mode": {
    "name": "ipython",
    "version": 3
   },
   "file_extension": ".py",
   "mimetype": "text/x-python",
   "name": "python",
   "nbconvert_exporter": "python",
   "pygments_lexer": "ipython3",
   "version": "3.8.3-final"
  },
  "orig_nbformat": 2,
  "kernelspec": {
   "name": "python_defaultSpec_1609513991261",
   "display_name": "Python 3.8.3 64-bit"
  }
 },
 "nbformat": 4,
 "nbformat_minor": 2,
 "cells": [
  {
   "cell_type": "code",
   "execution_count": 40,
   "metadata": {},
   "outputs": [],
   "source": [
    "import numpy as np\n",
    "import matplotlib.pyplot as plt\n",
    "import pandas as pd"
   ]
  },
  {
   "cell_type": "code",
   "execution_count": 41,
   "metadata": {
    "tags": []
   },
   "outputs": [],
   "source": [
    "#Reading data\n",
    "datafile = 'Part_A_Dataset/house-votes-84.data.txt'\n",
    "cols = np.genfromtxt(datafile,dtype='str',delimiter=',')\n",
    "\n",
    "for row in cols :\n",
    "    yesCount = row[row=='y'].size\n",
    "    noCount = row[row=='n'].size\n",
    "    if(yesCount>=noCount):\n",
    "        row[row=='?'] = 'y'\n",
    "    else:\n",
    "        row[row=='?'] = 'n'\n",
    "\n",
    "#new, X, y = splitRandom(cols,25)   #to get parameters"
   ]
  },
  {
   "cell_type": "code",
   "execution_count": 42,
   "metadata": {},
   "outputs": [],
   "source": [
    "def splitRandom(cols, percent):\n",
    "    rng = np.random.default_rng()\n",
    "    new = cols[np.random.choice(cols.shape[0], int(cols.shape[0]*(percent/100)), replace=False)]\n",
    "    # X-->inputs Y-->outputs\n",
    "    X = np.array(new[:,1:])\n",
    "    y = np.array(new[:,0])\n",
    "    return new,X,y"
   ]
  },
  {
   "cell_type": "code",
   "execution_count": 114,
   "metadata": {
    "tags": []
   },
   "outputs": [],
   "source": [
    "def GetIG(new , X, y):\n",
    "    divY = y[y=='republican'].size/y.size\n",
    "    ETarget = -1*( (divY)*np.log2(divY) + (1-divY)*np.log2(1-divY) )\n",
    "    IGs = []\n",
    "    n = new.shape[1]\n",
    "    for i in range(1,n):\n",
    "        mask = np.logical_and(new.T[i]=='y', new.T[0]=='republican')\n",
    "        div1 = new.T[i][mask].size/new.T[i][new.T[i]=='y'].size\n",
    "        EntropyYes = -1*((div1)*np.log2(div1) + (1-div1)*np.log2(1-div1))\n",
    "        if (div1 == 0 or div1 == 1):\n",
    "            EntropyYes = 0\n",
    "        mask = np.logical_and(new.T[i]=='n', new.T[0]=='republican')\n",
    "        div2 = new.T[i][mask].size/new.T[i][new.T[i]=='n'].size\n",
    "        EntropyNo = -1*((div2)*np.log2(div2) + (1-div2)*np.log2(1-div2))\n",
    "        if (div2 == 0 or div2 == 1):\n",
    "            EntropyNo = 0\n",
    "        IGs.append( (new.T[i][new.T[i]=='y'].size/new.T[i].size)*EntropyYes + (new.T[i][new.T[i]=='n'].size/new.T[i].size)*EntropyNo)\n",
    "    return IGs"
   ]
  },
  {
   "cell_type": "code",
   "execution_count": 115,
   "metadata": {
    "tags": []
   },
   "outputs": [
    {
     "output_type": "stream",
     "name": "stdout",
     "text": "[0.8295059347904714, 0.9781465119709194, 0.5423826429400631, 0.3612876420976071, 0.6206673969666384, 0.8602417394377897, 0.8213173489964727, 0.7596145843893829, 0.7473389908509531, 0.9701338639886488, 0.8688402774934803, 0.7324829144746541, 0.7731357187917384, 0.5508367986266884, 0.8156089893958827, 0.9687711666124295]\n"
    }
   ],
   "source": [
    "new, X, y = splitRandom(cols,25)\n",
    "print(GetIG(new, X, y))"
   ]
  },
  {
   "cell_type": "code",
   "execution_count": 2,
   "metadata": {},
   "outputs": [],
   "source": [
    "class Node:\n",
    "    def __init__(self):\n",
    "        self.value = None\n",
    "        self.decision = None\n",
    "        self.childs = None"
   ]
  },
  {
   "cell_type": "code",
   "execution_count": null,
   "metadata": {},
   "outputs": [],
   "source": [
    "def findEntropy(data, rows):\n",
    "    yes = 0\n",
    "    no = 0\n",
    "    ans = -1\n",
    "    idx = len(data[0]) - 1\n",
    "    entropy = 0\n",
    "    for i in rows:\n",
    "        if data[i][idx] == 'Yes':\n",
    "            yes = yes + 1\n",
    "        else:\n",
    "            no = no + 1\n",
    "\n",
    "    x = yes/(yes+no)\n",
    "    y = no/(yes+no)\n",
    "    if x != 0 and y != 0:\n",
    "        entropy = -1 * (x*math.log2(x) + y*math.log2(y))\n",
    "    if x == 1:\n",
    "        ans = 1\n",
    "    if y == 1:\n",
    "        ans = 0\n",
    "    return entropy, ans"
   ]
  }
 ]
}