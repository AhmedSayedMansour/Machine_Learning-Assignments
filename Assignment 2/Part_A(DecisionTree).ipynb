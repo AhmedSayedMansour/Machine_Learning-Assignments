{
 "metadata": {
  "language_info": {
   "codemirror_mode": {
    "name": "ipython",
    "version": 3
   },
   "file_extension": ".py",
   "mimetype": "text/x-python",
   "name": "python",
   "nbconvert_exporter": "python",
   "pygments_lexer": "ipython3",
   "version": "3.8.3-final"
  },
  "orig_nbformat": 2,
  "kernelspec": {
   "name": "python_defaultSpec_1609905542526",
   "display_name": "Python 3.8.3 64-bit"
  }
 },
 "nbformat": 4,
 "nbformat_minor": 2,
 "cells": [
  {
   "cell_type": "code",
   "execution_count": 110,
   "metadata": {},
   "outputs": [],
   "source": [
    "import numpy as np"
   ]
  },
  {
   "cell_type": "code",
   "execution_count": 111,
   "metadata": {
    "tags": []
   },
   "outputs": [],
   "source": [
    "#Reading data\n",
    "datafile = 'Part_A_Dataset/house-votes-84.data.txt'\n",
    "cols = np.genfromtxt(datafile,dtype='str',delimiter=',')\n",
    "\n",
    "for row in cols :\n",
    "    yesCount = row[row=='y'].size\n",
    "    noCount = row[row=='n'].size\n",
    "    if(yesCount>=noCount):\n",
    "        row[row=='?'] = 'y'\n",
    "    else:\n",
    "        row[row=='?'] = 'n'\n",
    "\n",
    "#new, X, y = splitRandom(cols,25)   #to get parameters"
   ]
  },
  {
   "cell_type": "code",
   "execution_count": 112,
   "metadata": {
    "tags": []
   },
   "outputs": [],
   "source": [
    "def splitRandom(cols, percent):\n",
    "    rng = np.random.default_rng()\n",
    "    choise = np.random.choice(cols.shape[0], int(cols.shape[0] * (percent / 100)),replace=False)\n",
    "    new = cols[choise]\n",
    "    rem = np.delete(cols, choise, axis=0)\n",
    "    # X-->inputs Y-->outputs\n",
    "    X = np.array(new[:,1:])\n",
    "    y = np.array(new[:,0])\n",
    "    #print(new.shape,rem.shape,cols.shape)\n",
    "    return new,X,y,rem"
   ]
  },
  {
   "cell_type": "code",
   "execution_count": 113,
   "metadata": {},
   "outputs": [],
   "source": [
    "class Node:\n",
    "    def __init__(self):\n",
    "        self.col = None\n",
    "        self.remainingCols = None\n",
    "        self.bestIndex = None\n",
    "        self.IG = None\n",
    "        self.data = None\n",
    "        self.EntropyYes = None\n",
    "        self.EntropyNo = None\n",
    "        self.rightY = None\n",
    "        self.leftN = None\n",
    "        self.Class = None\n",
    "\n",
    "    def printTree(self):\n",
    "        if self.leftN:\n",
    "            self.leftN.printTree()\n",
    "        self.printNode()\n",
    "        if self.rightY:\n",
    "            self.rightY.printTree()\n",
    "\n",
    "    def printNode(self):\n",
    "        print(self.col, self.remainingCols, self.bestIndex, self.IG, self.EntropyYes, self.EntropyNo, self.rightY, self.leftN, self.Class)\n",
    "        if type(self.data) is np.ndarray:\n",
    "            print(self.data.shape)\n",
    "        else :\n",
    "            print(None)\n",
    "\n",
    "def treeSize(node):\n",
    "    if node is None:\n",
    "        return 0\n",
    "    return 1 + treeSize(node.leftN) + treeSize(node.rightY)"
   ]
  },
  {
   "cell_type": "code",
   "execution_count": 114,
   "metadata": {
    "tags": []
   },
   "outputs": [],
   "source": [
    "def GetBestIGNode(data,colNames):\n",
    "    y = data.T[0]\n",
    "    divY = y[y=='republican'].size/y.size\n",
    "    ETarget = -1*( (divY)*np.log2(divY) + (1-divY)*np.log2(1-divY) )\n",
    "    IGs = []\n",
    "    n = data.shape[1]\n",
    "    for i in range(1,n):\n",
    "        mask = np.logical_and(data.T[i]=='y', data.T[0]=='republican')\n",
    "        if(data.T[i][data.T[i]=='y'].size == 0):\n",
    "            div1 = 0\n",
    "        else:\n",
    "            div1 = data.T[i][mask].size/data.T[i][data.T[i]=='y'].size\n",
    "        div2 = 1-div1\n",
    "        EntropyYes = -1*((div1)*np.log2(div1) + (div2)*np.log2(div2))\n",
    "        if (div1 == 0 or div1 == 1):\n",
    "            EntropyYes = 0\n",
    "        mask = np.logical_and(data.T[i]=='n', data.T[0]=='republican')\n",
    "        if (data.T[i][data.T[i]=='n'].size == 0):\n",
    "            div3 = 0\n",
    "        else:\n",
    "            div3 = data.T[i][mask].size/data.T[i][data.T[i]=='n'].size\n",
    "        div4 = 1-div3\n",
    "        EntropyNo = -1*((div3)*np.log2(div3) + (div4)*np.log2(div4))\n",
    "        if (div3 == 0 or div3 == 1):\n",
    "            EntropyNo = 0\n",
    "        IGs.append(ETarget-((data.T[i][data.T[i]=='y'].size/data.T[i].size)*EntropyYes+(data.T[i][data.T[i]=='n'].size/data.T[i].size)*EntropyNo) )\n",
    "    bestIndex = IGs.index(max(IGs))\n",
    "    best = Node()\n",
    "    best.col = colNames[bestIndex]\n",
    "    best.remainingCols = colNames[:bestIndex]+colNames[bestIndex+1:]\n",
    "    best.bestIndex = bestIndex + 1\n",
    "    best.IG = IGs[bestIndex]\n",
    "    best.data = data\n",
    "    best.EntropyYes = EntropyYes\n",
    "    best.EntropyNo = EntropyNo\n",
    "    if(EntropyYes == 0):\n",
    "        leaf = Node()\n",
    "        leaf.Class = 'republican' if div1>div2 else 'democrat'\n",
    "        best.rightY = leaf\n",
    "    if(EntropyNo == 0):\n",
    "        leaf = Node()\n",
    "        leaf.Class = 'republican' if div3>div4 else 'democrat'\n",
    "        best.leftN  = leaf\n",
    "    return best"
   ]
  },
  {
   "cell_type": "code",
   "execution_count": 115,
   "metadata": {
    "tags": []
   },
   "outputs": [],
   "source": [
    "def buildTree(rootNode):\n",
    "    #baseCase\n",
    "    if(rootNode.data.shape[1] == 2):\n",
    "        mask = np.logical_and(data.T[1]=='y', data.T[0]=='republican')\n",
    "        if(data.T[1][data.T[1]=='y'].size == 0):\n",
    "            div1 = 0\n",
    "        else:\n",
    "            div1 = data.T[1][mask].size/data.T[1][data.T[1]=='y'].size\n",
    "        leaf = Node()\n",
    "        leaf.Class = 'republican' if div1>0.5 else 'democrat'\n",
    "        rootNode.rightY = leaf\n",
    "\n",
    "        mask = np.logical_and(data.T[1]=='n', data.T[0]=='republican')\n",
    "        if (data.T[1][data.T[1]=='n'].size == 0):\n",
    "            div3 = 0\n",
    "        else:\n",
    "            div3 = data.T[1][mask].size/data.T[1][data.T[1]=='n'].size\n",
    "        leaf2 = Node()\n",
    "        leaf2.Class = 'republican' if div3>0.5 else 'democrat'\n",
    "        rootNode.leftN = leaf2\n",
    "    else:\n",
    "        if(rootNode.rightY == None):\n",
    "            newData = np.copy(rootNode.data)\n",
    "            newData = newData[newData[:,rootNode.bestIndex] == 'y']\n",
    "            newData = np.concatenate((newData[:,:rootNode.bestIndex], newData[:,rootNode.bestIndex+1:]), axis = 1)\n",
    "            if newData.shape[0] == 0 :\n",
    "                rootNode.Class == rootNode.data[0][0]\n",
    "                return rootNode\n",
    "            else:\n",
    "                rootNode.rightY = buildTree(GetBestIGNode(newData,rootNode.remainingCols))\n",
    "        if(rootNode.leftN == None):\n",
    "            newData = np.copy(rootNode.data)\n",
    "            newData = newData[newData[:,rootNode.bestIndex] == 'n']\n",
    "            newData = np.concatenate((newData[:,:rootNode.bestIndex], newData[:,rootNode.bestIndex+1:]), axis = 1)\n",
    "            if newData.shape[0] == 0 :\n",
    "                rootNode.Class == rootNode.data[0][0]\n",
    "                return rootNode\n",
    "            rootNode.leftN =buildTree(GetBestIGNode(newData,rootNode.remainingCols))\n",
    "    return rootNode"
   ]
  },
  {
   "cell_type": "code",
   "execution_count": 116,
   "metadata": {
    "tags": []
   },
   "outputs": [],
   "source": [
    "def predict(rootNode, row):\n",
    "    if rootNode.Class != None:\n",
    "        return rootNode.Class\n",
    "    else:\n",
    "        if row[rootNode.bestIndex] == 'y':\n",
    "            return predict(rootNode.rightY, np.concatenate((row[:rootNode.bestIndex],row[rootNode.bestIndex+1:])))\n",
    "        elif row[rootNode.bestIndex] == 'n':\n",
    "            return predict(rootNode.leftN, np.concatenate((row[:rootNode.bestIndex],row[rootNode.bestIndex+1:])))"
   ]
  },
  {
   "cell_type": "code",
   "execution_count": 117,
   "metadata": {
    "tags": []
   },
   "outputs": [],
   "source": [
    "def predictTestData(rootNode,testData):\n",
    "    right = 0\n",
    "    index = 0\n",
    "    for row in testData:\n",
    "        right = right + (1 if predict(rootNode,row) == testData[index][0] else 0)\n",
    "        index += 1\n",
    "    return ((right/testData.shape[0])*100)"
   ]
  },
  {
   "cell_type": "code",
   "execution_count": 118,
   "metadata": {
    "tags": []
   },
   "outputs": [
    {
     "output_type": "stream",
     "name": "stdout",
     "text": "Expermint 1 :\naccuracy : 93.27217125382263\ntree size : 21 \n\nExpermint 2 :\naccuracy : 92.96636085626912\ntree size : 9 \n\nExpermint 3 :\naccuracy : 95.10703363914374\ntree size : 23 \n\nExpermint 4 :\naccuracy : 92.66055045871559\ntree size : 21 \n\nExpermint 5 :\naccuracy : 92.04892966360856\ntree size : 39 \n\n"
    }
   ],
   "source": [
    "## Part_A Point_1 \n",
    "## 25%rondomly and rerun 5 times and Report the sizes and accuracies of these trees in each experiment\n",
    "for i in range(5):\n",
    "    data, X, y, rem = splitRandom(cols,25)\n",
    "    colNames = ['i1','i2','i3','i4','i5','i6','i7','i8','i9','i10','i11','i12','i13','i14','i15','i16']\n",
    "    rootNode = buildTree(GetBestIGNode(data,colNames))\n",
    "    print('Expermint', i+1, ':')\n",
    "    print('accuracy :', predictTestData(rootNode, rem))\n",
    "    print('tree size :', treeSize(rootNode), '\\n')"
   ]
  },
  {
   "cell_type": "code",
   "execution_count": 126,
   "metadata": {
    "tags": []
   },
   "outputs": [
    {
     "output_type": "error",
     "ename": "AttributeError",
     "evalue": "'NoneType' object has no attribute 'Class'",
     "traceback": [
      "\u001b[1;31m---------------------------------------------------------------------------\u001b[0m",
      "\u001b[1;31mAttributeError\u001b[0m                            Traceback (most recent call last)",
      "\u001b[1;32m<ipython-input-126-6240a1ca0029>\u001b[0m in \u001b[0;36m<module>\u001b[1;34m\u001b[0m\n\u001b[0;32m      9\u001b[0m     \u001b[0mcolNames\u001b[0m \u001b[1;33m=\u001b[0m \u001b[1;33m[\u001b[0m\u001b[1;34m'i1'\u001b[0m\u001b[1;33m,\u001b[0m\u001b[1;34m'i2'\u001b[0m\u001b[1;33m,\u001b[0m\u001b[1;34m'i3'\u001b[0m\u001b[1;33m,\u001b[0m\u001b[1;34m'i4'\u001b[0m\u001b[1;33m,\u001b[0m\u001b[1;34m'i5'\u001b[0m\u001b[1;33m,\u001b[0m\u001b[1;34m'i6'\u001b[0m\u001b[1;33m,\u001b[0m\u001b[1;34m'i7'\u001b[0m\u001b[1;33m,\u001b[0m\u001b[1;34m'i8'\u001b[0m\u001b[1;33m,\u001b[0m\u001b[1;34m'i9'\u001b[0m\u001b[1;33m,\u001b[0m\u001b[1;34m'i10'\u001b[0m\u001b[1;33m,\u001b[0m\u001b[1;34m'i11'\u001b[0m\u001b[1;33m,\u001b[0m\u001b[1;34m'i12'\u001b[0m\u001b[1;33m,\u001b[0m\u001b[1;34m'i13'\u001b[0m\u001b[1;33m,\u001b[0m\u001b[1;34m'i14'\u001b[0m\u001b[1;33m,\u001b[0m\u001b[1;34m'i15'\u001b[0m\u001b[1;33m,\u001b[0m\u001b[1;34m'i16'\u001b[0m\u001b[1;33m]\u001b[0m\u001b[1;33m\u001b[0m\u001b[1;33m\u001b[0m\u001b[0m\n\u001b[0;32m     10\u001b[0m     \u001b[0mrootNode\u001b[0m \u001b[1;33m=\u001b[0m \u001b[0mbuildTree\u001b[0m\u001b[1;33m(\u001b[0m\u001b[0mGetBestIGNode\u001b[0m\u001b[1;33m(\u001b[0m\u001b[0mdata\u001b[0m\u001b[1;33m,\u001b[0m\u001b[0mcolNames\u001b[0m\u001b[1;33m)\u001b[0m\u001b[1;33m)\u001b[0m\u001b[1;33m\u001b[0m\u001b[1;33m\u001b[0m\u001b[0m\n\u001b[1;32m---> 11\u001b[1;33m     \u001b[0maccuracies\u001b[0m\u001b[1;33m.\u001b[0m\u001b[0mappend\u001b[0m\u001b[1;33m(\u001b[0m\u001b[0mpredictTestData\u001b[0m\u001b[1;33m(\u001b[0m\u001b[0mrootNode\u001b[0m\u001b[1;33m,\u001b[0m \u001b[0mrem\u001b[0m\u001b[1;33m)\u001b[0m\u001b[1;33m)\u001b[0m\u001b[1;33m\u001b[0m\u001b[1;33m\u001b[0m\u001b[0m\n\u001b[0m\u001b[0;32m     12\u001b[0m     \u001b[0mtreeSizes\u001b[0m\u001b[1;33m.\u001b[0m\u001b[0mappend\u001b[0m\u001b[1;33m(\u001b[0m\u001b[0mtreeSize\u001b[0m\u001b[1;33m(\u001b[0m\u001b[0mrootNode\u001b[0m\u001b[1;33m)\u001b[0m\u001b[1;33m)\u001b[0m\u001b[1;33m\u001b[0m\u001b[1;33m\u001b[0m\u001b[0m\n\u001b[0;32m     13\u001b[0m \u001b[0mprint\u001b[0m\u001b[1;33m(\u001b[0m\u001b[1;34m'Accuracies :'\u001b[0m\u001b[1;33m,\u001b[0m \u001b[0maccuracies\u001b[0m\u001b[1;33m)\u001b[0m\u001b[1;33m\u001b[0m\u001b[1;33m\u001b[0m\u001b[0m\n",
      "\u001b[1;32m<ipython-input-117-6af4baa3c420>\u001b[0m in \u001b[0;36mpredictTestData\u001b[1;34m(rootNode, testData)\u001b[0m\n\u001b[0;32m      3\u001b[0m     \u001b[0mindex\u001b[0m \u001b[1;33m=\u001b[0m \u001b[1;36m0\u001b[0m\u001b[1;33m\u001b[0m\u001b[1;33m\u001b[0m\u001b[0m\n\u001b[0;32m      4\u001b[0m     \u001b[1;32mfor\u001b[0m \u001b[0mrow\u001b[0m \u001b[1;32min\u001b[0m \u001b[0mtestData\u001b[0m\u001b[1;33m:\u001b[0m\u001b[1;33m\u001b[0m\u001b[1;33m\u001b[0m\u001b[0m\n\u001b[1;32m----> 5\u001b[1;33m         \u001b[0mright\u001b[0m \u001b[1;33m=\u001b[0m \u001b[0mright\u001b[0m \u001b[1;33m+\u001b[0m \u001b[1;33m(\u001b[0m\u001b[1;36m1\u001b[0m \u001b[1;32mif\u001b[0m \u001b[0mpredict\u001b[0m\u001b[1;33m(\u001b[0m\u001b[0mrootNode\u001b[0m\u001b[1;33m,\u001b[0m\u001b[0mrow\u001b[0m\u001b[1;33m)\u001b[0m \u001b[1;33m==\u001b[0m \u001b[0mtestData\u001b[0m\u001b[1;33m[\u001b[0m\u001b[0mindex\u001b[0m\u001b[1;33m]\u001b[0m\u001b[1;33m[\u001b[0m\u001b[1;36m0\u001b[0m\u001b[1;33m]\u001b[0m \u001b[1;32melse\u001b[0m \u001b[1;36m0\u001b[0m\u001b[1;33m)\u001b[0m\u001b[1;33m\u001b[0m\u001b[1;33m\u001b[0m\u001b[0m\n\u001b[0m\u001b[0;32m      6\u001b[0m         \u001b[0mindex\u001b[0m \u001b[1;33m+=\u001b[0m \u001b[1;36m1\u001b[0m\u001b[1;33m\u001b[0m\u001b[1;33m\u001b[0m\u001b[0m\n\u001b[0;32m      7\u001b[0m     \u001b[1;32mreturn\u001b[0m \u001b[1;33m(\u001b[0m\u001b[1;33m(\u001b[0m\u001b[0mright\u001b[0m\u001b[1;33m/\u001b[0m\u001b[0mtestData\u001b[0m\u001b[1;33m.\u001b[0m\u001b[0mshape\u001b[0m\u001b[1;33m[\u001b[0m\u001b[1;36m0\u001b[0m\u001b[1;33m]\u001b[0m\u001b[1;33m)\u001b[0m\u001b[1;33m*\u001b[0m\u001b[1;36m100\u001b[0m\u001b[1;33m)\u001b[0m\u001b[1;33m\u001b[0m\u001b[1;33m\u001b[0m\u001b[0m\n",
      "\u001b[1;32m<ipython-input-116-cd0b4b3c2c7b>\u001b[0m in \u001b[0;36mpredict\u001b[1;34m(rootNode, row)\u001b[0m\n\u001b[0;32m      4\u001b[0m     \u001b[1;32melse\u001b[0m\u001b[1;33m:\u001b[0m\u001b[1;33m\u001b[0m\u001b[1;33m\u001b[0m\u001b[0m\n\u001b[0;32m      5\u001b[0m         \u001b[1;32mif\u001b[0m \u001b[0mrow\u001b[0m\u001b[1;33m[\u001b[0m\u001b[0mrootNode\u001b[0m\u001b[1;33m.\u001b[0m\u001b[0mbestIndex\u001b[0m\u001b[1;33m]\u001b[0m \u001b[1;33m==\u001b[0m \u001b[1;34m'y'\u001b[0m\u001b[1;33m:\u001b[0m\u001b[1;33m\u001b[0m\u001b[1;33m\u001b[0m\u001b[0m\n\u001b[1;32m----> 6\u001b[1;33m             \u001b[1;32mreturn\u001b[0m \u001b[0mpredict\u001b[0m\u001b[1;33m(\u001b[0m\u001b[0mrootNode\u001b[0m\u001b[1;33m.\u001b[0m\u001b[0mrightY\u001b[0m\u001b[1;33m,\u001b[0m \u001b[0mnp\u001b[0m\u001b[1;33m.\u001b[0m\u001b[0mconcatenate\u001b[0m\u001b[1;33m(\u001b[0m\u001b[1;33m(\u001b[0m\u001b[0mrow\u001b[0m\u001b[1;33m[\u001b[0m\u001b[1;33m:\u001b[0m\u001b[0mrootNode\u001b[0m\u001b[1;33m.\u001b[0m\u001b[0mbestIndex\u001b[0m\u001b[1;33m]\u001b[0m\u001b[1;33m,\u001b[0m\u001b[0mrow\u001b[0m\u001b[1;33m[\u001b[0m\u001b[0mrootNode\u001b[0m\u001b[1;33m.\u001b[0m\u001b[0mbestIndex\u001b[0m\u001b[1;33m+\u001b[0m\u001b[1;36m1\u001b[0m\u001b[1;33m:\u001b[0m\u001b[1;33m]\u001b[0m\u001b[1;33m)\u001b[0m\u001b[1;33m)\u001b[0m\u001b[1;33m)\u001b[0m\u001b[1;33m\u001b[0m\u001b[1;33m\u001b[0m\u001b[0m\n\u001b[0m\u001b[0;32m      7\u001b[0m         \u001b[1;32melif\u001b[0m \u001b[0mrow\u001b[0m\u001b[1;33m[\u001b[0m\u001b[0mrootNode\u001b[0m\u001b[1;33m.\u001b[0m\u001b[0mbestIndex\u001b[0m\u001b[1;33m]\u001b[0m \u001b[1;33m==\u001b[0m \u001b[1;34m'n'\u001b[0m\u001b[1;33m:\u001b[0m\u001b[1;33m\u001b[0m\u001b[1;33m\u001b[0m\u001b[0m\n\u001b[0;32m      8\u001b[0m             \u001b[1;32mreturn\u001b[0m \u001b[0mpredict\u001b[0m\u001b[1;33m(\u001b[0m\u001b[0mrootNode\u001b[0m\u001b[1;33m.\u001b[0m\u001b[0mleftN\u001b[0m\u001b[1;33m,\u001b[0m \u001b[0mnp\u001b[0m\u001b[1;33m.\u001b[0m\u001b[0mconcatenate\u001b[0m\u001b[1;33m(\u001b[0m\u001b[1;33m(\u001b[0m\u001b[0mrow\u001b[0m\u001b[1;33m[\u001b[0m\u001b[1;33m:\u001b[0m\u001b[0mrootNode\u001b[0m\u001b[1;33m.\u001b[0m\u001b[0mbestIndex\u001b[0m\u001b[1;33m]\u001b[0m\u001b[1;33m,\u001b[0m\u001b[0mrow\u001b[0m\u001b[1;33m[\u001b[0m\u001b[0mrootNode\u001b[0m\u001b[1;33m.\u001b[0m\u001b[0mbestIndex\u001b[0m\u001b[1;33m+\u001b[0m\u001b[1;36m1\u001b[0m\u001b[1;33m:\u001b[0m\u001b[1;33m]\u001b[0m\u001b[1;33m)\u001b[0m\u001b[1;33m)\u001b[0m\u001b[1;33m)\u001b[0m\u001b[1;33m\u001b[0m\u001b[1;33m\u001b[0m\u001b[0m\n",
      "\u001b[1;32m<ipython-input-116-cd0b4b3c2c7b>\u001b[0m in \u001b[0;36mpredict\u001b[1;34m(rootNode, row)\u001b[0m\n\u001b[0;32m      4\u001b[0m     \u001b[1;32melse\u001b[0m\u001b[1;33m:\u001b[0m\u001b[1;33m\u001b[0m\u001b[1;33m\u001b[0m\u001b[0m\n\u001b[0;32m      5\u001b[0m         \u001b[1;32mif\u001b[0m \u001b[0mrow\u001b[0m\u001b[1;33m[\u001b[0m\u001b[0mrootNode\u001b[0m\u001b[1;33m.\u001b[0m\u001b[0mbestIndex\u001b[0m\u001b[1;33m]\u001b[0m \u001b[1;33m==\u001b[0m \u001b[1;34m'y'\u001b[0m\u001b[1;33m:\u001b[0m\u001b[1;33m\u001b[0m\u001b[1;33m\u001b[0m\u001b[0m\n\u001b[1;32m----> 6\u001b[1;33m             \u001b[1;32mreturn\u001b[0m \u001b[0mpredict\u001b[0m\u001b[1;33m(\u001b[0m\u001b[0mrootNode\u001b[0m\u001b[1;33m.\u001b[0m\u001b[0mrightY\u001b[0m\u001b[1;33m,\u001b[0m \u001b[0mnp\u001b[0m\u001b[1;33m.\u001b[0m\u001b[0mconcatenate\u001b[0m\u001b[1;33m(\u001b[0m\u001b[1;33m(\u001b[0m\u001b[0mrow\u001b[0m\u001b[1;33m[\u001b[0m\u001b[1;33m:\u001b[0m\u001b[0mrootNode\u001b[0m\u001b[1;33m.\u001b[0m\u001b[0mbestIndex\u001b[0m\u001b[1;33m]\u001b[0m\u001b[1;33m,\u001b[0m\u001b[0mrow\u001b[0m\u001b[1;33m[\u001b[0m\u001b[0mrootNode\u001b[0m\u001b[1;33m.\u001b[0m\u001b[0mbestIndex\u001b[0m\u001b[1;33m+\u001b[0m\u001b[1;36m1\u001b[0m\u001b[1;33m:\u001b[0m\u001b[1;33m]\u001b[0m\u001b[1;33m)\u001b[0m\u001b[1;33m)\u001b[0m\u001b[1;33m)\u001b[0m\u001b[1;33m\u001b[0m\u001b[1;33m\u001b[0m\u001b[0m\n\u001b[0m\u001b[0;32m      7\u001b[0m         \u001b[1;32melif\u001b[0m \u001b[0mrow\u001b[0m\u001b[1;33m[\u001b[0m\u001b[0mrootNode\u001b[0m\u001b[1;33m.\u001b[0m\u001b[0mbestIndex\u001b[0m\u001b[1;33m]\u001b[0m \u001b[1;33m==\u001b[0m \u001b[1;34m'n'\u001b[0m\u001b[1;33m:\u001b[0m\u001b[1;33m\u001b[0m\u001b[1;33m\u001b[0m\u001b[0m\n\u001b[0;32m      8\u001b[0m             \u001b[1;32mreturn\u001b[0m \u001b[0mpredict\u001b[0m\u001b[1;33m(\u001b[0m\u001b[0mrootNode\u001b[0m\u001b[1;33m.\u001b[0m\u001b[0mleftN\u001b[0m\u001b[1;33m,\u001b[0m \u001b[0mnp\u001b[0m\u001b[1;33m.\u001b[0m\u001b[0mconcatenate\u001b[0m\u001b[1;33m(\u001b[0m\u001b[1;33m(\u001b[0m\u001b[0mrow\u001b[0m\u001b[1;33m[\u001b[0m\u001b[1;33m:\u001b[0m\u001b[0mrootNode\u001b[0m\u001b[1;33m.\u001b[0m\u001b[0mbestIndex\u001b[0m\u001b[1;33m]\u001b[0m\u001b[1;33m,\u001b[0m\u001b[0mrow\u001b[0m\u001b[1;33m[\u001b[0m\u001b[0mrootNode\u001b[0m\u001b[1;33m.\u001b[0m\u001b[0mbestIndex\u001b[0m\u001b[1;33m+\u001b[0m\u001b[1;36m1\u001b[0m\u001b[1;33m:\u001b[0m\u001b[1;33m]\u001b[0m\u001b[1;33m)\u001b[0m\u001b[1;33m)\u001b[0m\u001b[1;33m)\u001b[0m\u001b[1;33m\u001b[0m\u001b[1;33m\u001b[0m\u001b[0m\n",
      "\u001b[1;32m<ipython-input-116-cd0b4b3c2c7b>\u001b[0m in \u001b[0;36mpredict\u001b[1;34m(rootNode, row)\u001b[0m\n\u001b[0;32m      4\u001b[0m     \u001b[1;32melse\u001b[0m\u001b[1;33m:\u001b[0m\u001b[1;33m\u001b[0m\u001b[1;33m\u001b[0m\u001b[0m\n\u001b[0;32m      5\u001b[0m         \u001b[1;32mif\u001b[0m \u001b[0mrow\u001b[0m\u001b[1;33m[\u001b[0m\u001b[0mrootNode\u001b[0m\u001b[1;33m.\u001b[0m\u001b[0mbestIndex\u001b[0m\u001b[1;33m]\u001b[0m \u001b[1;33m==\u001b[0m \u001b[1;34m'y'\u001b[0m\u001b[1;33m:\u001b[0m\u001b[1;33m\u001b[0m\u001b[1;33m\u001b[0m\u001b[0m\n\u001b[1;32m----> 6\u001b[1;33m             \u001b[1;32mreturn\u001b[0m \u001b[0mpredict\u001b[0m\u001b[1;33m(\u001b[0m\u001b[0mrootNode\u001b[0m\u001b[1;33m.\u001b[0m\u001b[0mrightY\u001b[0m\u001b[1;33m,\u001b[0m \u001b[0mnp\u001b[0m\u001b[1;33m.\u001b[0m\u001b[0mconcatenate\u001b[0m\u001b[1;33m(\u001b[0m\u001b[1;33m(\u001b[0m\u001b[0mrow\u001b[0m\u001b[1;33m[\u001b[0m\u001b[1;33m:\u001b[0m\u001b[0mrootNode\u001b[0m\u001b[1;33m.\u001b[0m\u001b[0mbestIndex\u001b[0m\u001b[1;33m]\u001b[0m\u001b[1;33m,\u001b[0m\u001b[0mrow\u001b[0m\u001b[1;33m[\u001b[0m\u001b[0mrootNode\u001b[0m\u001b[1;33m.\u001b[0m\u001b[0mbestIndex\u001b[0m\u001b[1;33m+\u001b[0m\u001b[1;36m1\u001b[0m\u001b[1;33m:\u001b[0m\u001b[1;33m]\u001b[0m\u001b[1;33m)\u001b[0m\u001b[1;33m)\u001b[0m\u001b[1;33m)\u001b[0m\u001b[1;33m\u001b[0m\u001b[1;33m\u001b[0m\u001b[0m\n\u001b[0m\u001b[0;32m      7\u001b[0m         \u001b[1;32melif\u001b[0m \u001b[0mrow\u001b[0m\u001b[1;33m[\u001b[0m\u001b[0mrootNode\u001b[0m\u001b[1;33m.\u001b[0m\u001b[0mbestIndex\u001b[0m\u001b[1;33m]\u001b[0m \u001b[1;33m==\u001b[0m \u001b[1;34m'n'\u001b[0m\u001b[1;33m:\u001b[0m\u001b[1;33m\u001b[0m\u001b[1;33m\u001b[0m\u001b[0m\n\u001b[0;32m      8\u001b[0m             \u001b[1;32mreturn\u001b[0m \u001b[0mpredict\u001b[0m\u001b[1;33m(\u001b[0m\u001b[0mrootNode\u001b[0m\u001b[1;33m.\u001b[0m\u001b[0mleftN\u001b[0m\u001b[1;33m,\u001b[0m \u001b[0mnp\u001b[0m\u001b[1;33m.\u001b[0m\u001b[0mconcatenate\u001b[0m\u001b[1;33m(\u001b[0m\u001b[1;33m(\u001b[0m\u001b[0mrow\u001b[0m\u001b[1;33m[\u001b[0m\u001b[1;33m:\u001b[0m\u001b[0mrootNode\u001b[0m\u001b[1;33m.\u001b[0m\u001b[0mbestIndex\u001b[0m\u001b[1;33m]\u001b[0m\u001b[1;33m,\u001b[0m\u001b[0mrow\u001b[0m\u001b[1;33m[\u001b[0m\u001b[0mrootNode\u001b[0m\u001b[1;33m.\u001b[0m\u001b[0mbestIndex\u001b[0m\u001b[1;33m+\u001b[0m\u001b[1;36m1\u001b[0m\u001b[1;33m:\u001b[0m\u001b[1;33m]\u001b[0m\u001b[1;33m)\u001b[0m\u001b[1;33m)\u001b[0m\u001b[1;33m)\u001b[0m\u001b[1;33m\u001b[0m\u001b[1;33m\u001b[0m\u001b[0m\n",
      "\u001b[1;32m<ipython-input-116-cd0b4b3c2c7b>\u001b[0m in \u001b[0;36mpredict\u001b[1;34m(rootNode, row)\u001b[0m\n\u001b[0;32m      4\u001b[0m     \u001b[1;32melse\u001b[0m\u001b[1;33m:\u001b[0m\u001b[1;33m\u001b[0m\u001b[1;33m\u001b[0m\u001b[0m\n\u001b[0;32m      5\u001b[0m         \u001b[1;32mif\u001b[0m \u001b[0mrow\u001b[0m\u001b[1;33m[\u001b[0m\u001b[0mrootNode\u001b[0m\u001b[1;33m.\u001b[0m\u001b[0mbestIndex\u001b[0m\u001b[1;33m]\u001b[0m \u001b[1;33m==\u001b[0m \u001b[1;34m'y'\u001b[0m\u001b[1;33m:\u001b[0m\u001b[1;33m\u001b[0m\u001b[1;33m\u001b[0m\u001b[0m\n\u001b[1;32m----> 6\u001b[1;33m             \u001b[1;32mreturn\u001b[0m \u001b[0mpredict\u001b[0m\u001b[1;33m(\u001b[0m\u001b[0mrootNode\u001b[0m\u001b[1;33m.\u001b[0m\u001b[0mrightY\u001b[0m\u001b[1;33m,\u001b[0m \u001b[0mnp\u001b[0m\u001b[1;33m.\u001b[0m\u001b[0mconcatenate\u001b[0m\u001b[1;33m(\u001b[0m\u001b[1;33m(\u001b[0m\u001b[0mrow\u001b[0m\u001b[1;33m[\u001b[0m\u001b[1;33m:\u001b[0m\u001b[0mrootNode\u001b[0m\u001b[1;33m.\u001b[0m\u001b[0mbestIndex\u001b[0m\u001b[1;33m]\u001b[0m\u001b[1;33m,\u001b[0m\u001b[0mrow\u001b[0m\u001b[1;33m[\u001b[0m\u001b[0mrootNode\u001b[0m\u001b[1;33m.\u001b[0m\u001b[0mbestIndex\u001b[0m\u001b[1;33m+\u001b[0m\u001b[1;36m1\u001b[0m\u001b[1;33m:\u001b[0m\u001b[1;33m]\u001b[0m\u001b[1;33m)\u001b[0m\u001b[1;33m)\u001b[0m\u001b[1;33m)\u001b[0m\u001b[1;33m\u001b[0m\u001b[1;33m\u001b[0m\u001b[0m\n\u001b[0m\u001b[0;32m      7\u001b[0m         \u001b[1;32melif\u001b[0m \u001b[0mrow\u001b[0m\u001b[1;33m[\u001b[0m\u001b[0mrootNode\u001b[0m\u001b[1;33m.\u001b[0m\u001b[0mbestIndex\u001b[0m\u001b[1;33m]\u001b[0m \u001b[1;33m==\u001b[0m \u001b[1;34m'n'\u001b[0m\u001b[1;33m:\u001b[0m\u001b[1;33m\u001b[0m\u001b[1;33m\u001b[0m\u001b[0m\n\u001b[0;32m      8\u001b[0m             \u001b[1;32mreturn\u001b[0m \u001b[0mpredict\u001b[0m\u001b[1;33m(\u001b[0m\u001b[0mrootNode\u001b[0m\u001b[1;33m.\u001b[0m\u001b[0mleftN\u001b[0m\u001b[1;33m,\u001b[0m \u001b[0mnp\u001b[0m\u001b[1;33m.\u001b[0m\u001b[0mconcatenate\u001b[0m\u001b[1;33m(\u001b[0m\u001b[1;33m(\u001b[0m\u001b[0mrow\u001b[0m\u001b[1;33m[\u001b[0m\u001b[1;33m:\u001b[0m\u001b[0mrootNode\u001b[0m\u001b[1;33m.\u001b[0m\u001b[0mbestIndex\u001b[0m\u001b[1;33m]\u001b[0m\u001b[1;33m,\u001b[0m\u001b[0mrow\u001b[0m\u001b[1;33m[\u001b[0m\u001b[0mrootNode\u001b[0m\u001b[1;33m.\u001b[0m\u001b[0mbestIndex\u001b[0m\u001b[1;33m+\u001b[0m\u001b[1;36m1\u001b[0m\u001b[1;33m:\u001b[0m\u001b[1;33m]\u001b[0m\u001b[1;33m)\u001b[0m\u001b[1;33m)\u001b[0m\u001b[1;33m)\u001b[0m\u001b[1;33m\u001b[0m\u001b[1;33m\u001b[0m\u001b[0m\n",
      "\u001b[1;32m<ipython-input-116-cd0b4b3c2c7b>\u001b[0m in \u001b[0;36mpredict\u001b[1;34m(rootNode, row)\u001b[0m\n\u001b[0;32m      4\u001b[0m     \u001b[1;32melse\u001b[0m\u001b[1;33m:\u001b[0m\u001b[1;33m\u001b[0m\u001b[1;33m\u001b[0m\u001b[0m\n\u001b[0;32m      5\u001b[0m         \u001b[1;32mif\u001b[0m \u001b[0mrow\u001b[0m\u001b[1;33m[\u001b[0m\u001b[0mrootNode\u001b[0m\u001b[1;33m.\u001b[0m\u001b[0mbestIndex\u001b[0m\u001b[1;33m]\u001b[0m \u001b[1;33m==\u001b[0m \u001b[1;34m'y'\u001b[0m\u001b[1;33m:\u001b[0m\u001b[1;33m\u001b[0m\u001b[1;33m\u001b[0m\u001b[0m\n\u001b[1;32m----> 6\u001b[1;33m             \u001b[1;32mreturn\u001b[0m \u001b[0mpredict\u001b[0m\u001b[1;33m(\u001b[0m\u001b[0mrootNode\u001b[0m\u001b[1;33m.\u001b[0m\u001b[0mrightY\u001b[0m\u001b[1;33m,\u001b[0m \u001b[0mnp\u001b[0m\u001b[1;33m.\u001b[0m\u001b[0mconcatenate\u001b[0m\u001b[1;33m(\u001b[0m\u001b[1;33m(\u001b[0m\u001b[0mrow\u001b[0m\u001b[1;33m[\u001b[0m\u001b[1;33m:\u001b[0m\u001b[0mrootNode\u001b[0m\u001b[1;33m.\u001b[0m\u001b[0mbestIndex\u001b[0m\u001b[1;33m]\u001b[0m\u001b[1;33m,\u001b[0m\u001b[0mrow\u001b[0m\u001b[1;33m[\u001b[0m\u001b[0mrootNode\u001b[0m\u001b[1;33m.\u001b[0m\u001b[0mbestIndex\u001b[0m\u001b[1;33m+\u001b[0m\u001b[1;36m1\u001b[0m\u001b[1;33m:\u001b[0m\u001b[1;33m]\u001b[0m\u001b[1;33m)\u001b[0m\u001b[1;33m)\u001b[0m\u001b[1;33m)\u001b[0m\u001b[1;33m\u001b[0m\u001b[1;33m\u001b[0m\u001b[0m\n\u001b[0m\u001b[0;32m      7\u001b[0m         \u001b[1;32melif\u001b[0m \u001b[0mrow\u001b[0m\u001b[1;33m[\u001b[0m\u001b[0mrootNode\u001b[0m\u001b[1;33m.\u001b[0m\u001b[0mbestIndex\u001b[0m\u001b[1;33m]\u001b[0m \u001b[1;33m==\u001b[0m \u001b[1;34m'n'\u001b[0m\u001b[1;33m:\u001b[0m\u001b[1;33m\u001b[0m\u001b[1;33m\u001b[0m\u001b[0m\n\u001b[0;32m      8\u001b[0m             \u001b[1;32mreturn\u001b[0m \u001b[0mpredict\u001b[0m\u001b[1;33m(\u001b[0m\u001b[0mrootNode\u001b[0m\u001b[1;33m.\u001b[0m\u001b[0mleftN\u001b[0m\u001b[1;33m,\u001b[0m \u001b[0mnp\u001b[0m\u001b[1;33m.\u001b[0m\u001b[0mconcatenate\u001b[0m\u001b[1;33m(\u001b[0m\u001b[1;33m(\u001b[0m\u001b[0mrow\u001b[0m\u001b[1;33m[\u001b[0m\u001b[1;33m:\u001b[0m\u001b[0mrootNode\u001b[0m\u001b[1;33m.\u001b[0m\u001b[0mbestIndex\u001b[0m\u001b[1;33m]\u001b[0m\u001b[1;33m,\u001b[0m\u001b[0mrow\u001b[0m\u001b[1;33m[\u001b[0m\u001b[0mrootNode\u001b[0m\u001b[1;33m.\u001b[0m\u001b[0mbestIndex\u001b[0m\u001b[1;33m+\u001b[0m\u001b[1;36m1\u001b[0m\u001b[1;33m:\u001b[0m\u001b[1;33m]\u001b[0m\u001b[1;33m)\u001b[0m\u001b[1;33m)\u001b[0m\u001b[1;33m)\u001b[0m\u001b[1;33m\u001b[0m\u001b[1;33m\u001b[0m\u001b[0m\n",
      "\u001b[1;32m<ipython-input-116-cd0b4b3c2c7b>\u001b[0m in \u001b[0;36mpredict\u001b[1;34m(rootNode, row)\u001b[0m\n\u001b[0;32m      6\u001b[0m             \u001b[1;32mreturn\u001b[0m \u001b[0mpredict\u001b[0m\u001b[1;33m(\u001b[0m\u001b[0mrootNode\u001b[0m\u001b[1;33m.\u001b[0m\u001b[0mrightY\u001b[0m\u001b[1;33m,\u001b[0m \u001b[0mnp\u001b[0m\u001b[1;33m.\u001b[0m\u001b[0mconcatenate\u001b[0m\u001b[1;33m(\u001b[0m\u001b[1;33m(\u001b[0m\u001b[0mrow\u001b[0m\u001b[1;33m[\u001b[0m\u001b[1;33m:\u001b[0m\u001b[0mrootNode\u001b[0m\u001b[1;33m.\u001b[0m\u001b[0mbestIndex\u001b[0m\u001b[1;33m]\u001b[0m\u001b[1;33m,\u001b[0m\u001b[0mrow\u001b[0m\u001b[1;33m[\u001b[0m\u001b[0mrootNode\u001b[0m\u001b[1;33m.\u001b[0m\u001b[0mbestIndex\u001b[0m\u001b[1;33m+\u001b[0m\u001b[1;36m1\u001b[0m\u001b[1;33m:\u001b[0m\u001b[1;33m]\u001b[0m\u001b[1;33m)\u001b[0m\u001b[1;33m)\u001b[0m\u001b[1;33m)\u001b[0m\u001b[1;33m\u001b[0m\u001b[1;33m\u001b[0m\u001b[0m\n\u001b[0;32m      7\u001b[0m         \u001b[1;32melif\u001b[0m \u001b[0mrow\u001b[0m\u001b[1;33m[\u001b[0m\u001b[0mrootNode\u001b[0m\u001b[1;33m.\u001b[0m\u001b[0mbestIndex\u001b[0m\u001b[1;33m]\u001b[0m \u001b[1;33m==\u001b[0m \u001b[1;34m'n'\u001b[0m\u001b[1;33m:\u001b[0m\u001b[1;33m\u001b[0m\u001b[1;33m\u001b[0m\u001b[0m\n\u001b[1;32m----> 8\u001b[1;33m             \u001b[1;32mreturn\u001b[0m \u001b[0mpredict\u001b[0m\u001b[1;33m(\u001b[0m\u001b[0mrootNode\u001b[0m\u001b[1;33m.\u001b[0m\u001b[0mleftN\u001b[0m\u001b[1;33m,\u001b[0m \u001b[0mnp\u001b[0m\u001b[1;33m.\u001b[0m\u001b[0mconcatenate\u001b[0m\u001b[1;33m(\u001b[0m\u001b[1;33m(\u001b[0m\u001b[0mrow\u001b[0m\u001b[1;33m[\u001b[0m\u001b[1;33m:\u001b[0m\u001b[0mrootNode\u001b[0m\u001b[1;33m.\u001b[0m\u001b[0mbestIndex\u001b[0m\u001b[1;33m]\u001b[0m\u001b[1;33m,\u001b[0m\u001b[0mrow\u001b[0m\u001b[1;33m[\u001b[0m\u001b[0mrootNode\u001b[0m\u001b[1;33m.\u001b[0m\u001b[0mbestIndex\u001b[0m\u001b[1;33m+\u001b[0m\u001b[1;36m1\u001b[0m\u001b[1;33m:\u001b[0m\u001b[1;33m]\u001b[0m\u001b[1;33m)\u001b[0m\u001b[1;33m)\u001b[0m\u001b[1;33m)\u001b[0m\u001b[1;33m\u001b[0m\u001b[1;33m\u001b[0m\u001b[0m\n\u001b[0m",
      "\u001b[1;32m<ipython-input-116-cd0b4b3c2c7b>\u001b[0m in \u001b[0;36mpredict\u001b[1;34m(rootNode, row)\u001b[0m\n\u001b[0;32m      6\u001b[0m             \u001b[1;32mreturn\u001b[0m \u001b[0mpredict\u001b[0m\u001b[1;33m(\u001b[0m\u001b[0mrootNode\u001b[0m\u001b[1;33m.\u001b[0m\u001b[0mrightY\u001b[0m\u001b[1;33m,\u001b[0m \u001b[0mnp\u001b[0m\u001b[1;33m.\u001b[0m\u001b[0mconcatenate\u001b[0m\u001b[1;33m(\u001b[0m\u001b[1;33m(\u001b[0m\u001b[0mrow\u001b[0m\u001b[1;33m[\u001b[0m\u001b[1;33m:\u001b[0m\u001b[0mrootNode\u001b[0m\u001b[1;33m.\u001b[0m\u001b[0mbestIndex\u001b[0m\u001b[1;33m]\u001b[0m\u001b[1;33m,\u001b[0m\u001b[0mrow\u001b[0m\u001b[1;33m[\u001b[0m\u001b[0mrootNode\u001b[0m\u001b[1;33m.\u001b[0m\u001b[0mbestIndex\u001b[0m\u001b[1;33m+\u001b[0m\u001b[1;36m1\u001b[0m\u001b[1;33m:\u001b[0m\u001b[1;33m]\u001b[0m\u001b[1;33m)\u001b[0m\u001b[1;33m)\u001b[0m\u001b[1;33m)\u001b[0m\u001b[1;33m\u001b[0m\u001b[1;33m\u001b[0m\u001b[0m\n\u001b[0;32m      7\u001b[0m         \u001b[1;32melif\u001b[0m \u001b[0mrow\u001b[0m\u001b[1;33m[\u001b[0m\u001b[0mrootNode\u001b[0m\u001b[1;33m.\u001b[0m\u001b[0mbestIndex\u001b[0m\u001b[1;33m]\u001b[0m \u001b[1;33m==\u001b[0m \u001b[1;34m'n'\u001b[0m\u001b[1;33m:\u001b[0m\u001b[1;33m\u001b[0m\u001b[1;33m\u001b[0m\u001b[0m\n\u001b[1;32m----> 8\u001b[1;33m             \u001b[1;32mreturn\u001b[0m \u001b[0mpredict\u001b[0m\u001b[1;33m(\u001b[0m\u001b[0mrootNode\u001b[0m\u001b[1;33m.\u001b[0m\u001b[0mleftN\u001b[0m\u001b[1;33m,\u001b[0m \u001b[0mnp\u001b[0m\u001b[1;33m.\u001b[0m\u001b[0mconcatenate\u001b[0m\u001b[1;33m(\u001b[0m\u001b[1;33m(\u001b[0m\u001b[0mrow\u001b[0m\u001b[1;33m[\u001b[0m\u001b[1;33m:\u001b[0m\u001b[0mrootNode\u001b[0m\u001b[1;33m.\u001b[0m\u001b[0mbestIndex\u001b[0m\u001b[1;33m]\u001b[0m\u001b[1;33m,\u001b[0m\u001b[0mrow\u001b[0m\u001b[1;33m[\u001b[0m\u001b[0mrootNode\u001b[0m\u001b[1;33m.\u001b[0m\u001b[0mbestIndex\u001b[0m\u001b[1;33m+\u001b[0m\u001b[1;36m1\u001b[0m\u001b[1;33m:\u001b[0m\u001b[1;33m]\u001b[0m\u001b[1;33m)\u001b[0m\u001b[1;33m)\u001b[0m\u001b[1;33m)\u001b[0m\u001b[1;33m\u001b[0m\u001b[1;33m\u001b[0m\u001b[0m\n\u001b[0m",
      "\u001b[1;32m<ipython-input-116-cd0b4b3c2c7b>\u001b[0m in \u001b[0;36mpredict\u001b[1;34m(rootNode, row)\u001b[0m\n\u001b[0;32m      6\u001b[0m             \u001b[1;32mreturn\u001b[0m \u001b[0mpredict\u001b[0m\u001b[1;33m(\u001b[0m\u001b[0mrootNode\u001b[0m\u001b[1;33m.\u001b[0m\u001b[0mrightY\u001b[0m\u001b[1;33m,\u001b[0m \u001b[0mnp\u001b[0m\u001b[1;33m.\u001b[0m\u001b[0mconcatenate\u001b[0m\u001b[1;33m(\u001b[0m\u001b[1;33m(\u001b[0m\u001b[0mrow\u001b[0m\u001b[1;33m[\u001b[0m\u001b[1;33m:\u001b[0m\u001b[0mrootNode\u001b[0m\u001b[1;33m.\u001b[0m\u001b[0mbestIndex\u001b[0m\u001b[1;33m]\u001b[0m\u001b[1;33m,\u001b[0m\u001b[0mrow\u001b[0m\u001b[1;33m[\u001b[0m\u001b[0mrootNode\u001b[0m\u001b[1;33m.\u001b[0m\u001b[0mbestIndex\u001b[0m\u001b[1;33m+\u001b[0m\u001b[1;36m1\u001b[0m\u001b[1;33m:\u001b[0m\u001b[1;33m]\u001b[0m\u001b[1;33m)\u001b[0m\u001b[1;33m)\u001b[0m\u001b[1;33m)\u001b[0m\u001b[1;33m\u001b[0m\u001b[1;33m\u001b[0m\u001b[0m\n\u001b[0;32m      7\u001b[0m         \u001b[1;32melif\u001b[0m \u001b[0mrow\u001b[0m\u001b[1;33m[\u001b[0m\u001b[0mrootNode\u001b[0m\u001b[1;33m.\u001b[0m\u001b[0mbestIndex\u001b[0m\u001b[1;33m]\u001b[0m \u001b[1;33m==\u001b[0m \u001b[1;34m'n'\u001b[0m\u001b[1;33m:\u001b[0m\u001b[1;33m\u001b[0m\u001b[1;33m\u001b[0m\u001b[0m\n\u001b[1;32m----> 8\u001b[1;33m             \u001b[1;32mreturn\u001b[0m \u001b[0mpredict\u001b[0m\u001b[1;33m(\u001b[0m\u001b[0mrootNode\u001b[0m\u001b[1;33m.\u001b[0m\u001b[0mleftN\u001b[0m\u001b[1;33m,\u001b[0m \u001b[0mnp\u001b[0m\u001b[1;33m.\u001b[0m\u001b[0mconcatenate\u001b[0m\u001b[1;33m(\u001b[0m\u001b[1;33m(\u001b[0m\u001b[0mrow\u001b[0m\u001b[1;33m[\u001b[0m\u001b[1;33m:\u001b[0m\u001b[0mrootNode\u001b[0m\u001b[1;33m.\u001b[0m\u001b[0mbestIndex\u001b[0m\u001b[1;33m]\u001b[0m\u001b[1;33m,\u001b[0m\u001b[0mrow\u001b[0m\u001b[1;33m[\u001b[0m\u001b[0mrootNode\u001b[0m\u001b[1;33m.\u001b[0m\u001b[0mbestIndex\u001b[0m\u001b[1;33m+\u001b[0m\u001b[1;36m1\u001b[0m\u001b[1;33m:\u001b[0m\u001b[1;33m]\u001b[0m\u001b[1;33m)\u001b[0m\u001b[1;33m)\u001b[0m\u001b[1;33m)\u001b[0m\u001b[1;33m\u001b[0m\u001b[1;33m\u001b[0m\u001b[0m\n\u001b[0m",
      "\u001b[1;32m<ipython-input-116-cd0b4b3c2c7b>\u001b[0m in \u001b[0;36mpredict\u001b[1;34m(rootNode, row)\u001b[0m\n\u001b[0;32m      1\u001b[0m \u001b[1;32mdef\u001b[0m \u001b[0mpredict\u001b[0m\u001b[1;33m(\u001b[0m\u001b[0mrootNode\u001b[0m\u001b[1;33m,\u001b[0m \u001b[0mrow\u001b[0m\u001b[1;33m)\u001b[0m\u001b[1;33m:\u001b[0m\u001b[1;33m\u001b[0m\u001b[1;33m\u001b[0m\u001b[0m\n\u001b[1;32m----> 2\u001b[1;33m     \u001b[1;32mif\u001b[0m \u001b[0mrootNode\u001b[0m\u001b[1;33m.\u001b[0m\u001b[0mClass\u001b[0m \u001b[1;33m!=\u001b[0m \u001b[1;32mNone\u001b[0m\u001b[1;33m:\u001b[0m\u001b[1;33m\u001b[0m\u001b[1;33m\u001b[0m\u001b[0m\n\u001b[0m\u001b[0;32m      3\u001b[0m         \u001b[1;32mreturn\u001b[0m \u001b[0mrootNode\u001b[0m\u001b[1;33m.\u001b[0m\u001b[0mClass\u001b[0m\u001b[1;33m\u001b[0m\u001b[1;33m\u001b[0m\u001b[0m\n\u001b[0;32m      4\u001b[0m     \u001b[1;32melse\u001b[0m\u001b[1;33m:\u001b[0m\u001b[1;33m\u001b[0m\u001b[1;33m\u001b[0m\u001b[0m\n\u001b[0;32m      5\u001b[0m         \u001b[1;32mif\u001b[0m \u001b[0mrow\u001b[0m\u001b[1;33m[\u001b[0m\u001b[0mrootNode\u001b[0m\u001b[1;33m.\u001b[0m\u001b[0mbestIndex\u001b[0m\u001b[1;33m]\u001b[0m \u001b[1;33m==\u001b[0m \u001b[1;34m'y'\u001b[0m\u001b[1;33m:\u001b[0m\u001b[1;33m\u001b[0m\u001b[1;33m\u001b[0m\u001b[0m\n",
      "\u001b[1;31mAttributeError\u001b[0m: 'NoneType' object has no attribute 'Class'"
     ]
    }
   ],
   "source": [
    "## Part_A Point_2 \n",
    "## training set sizes (30-70%) report the mean, maximum and minimum accuracies at eachtraining set size.\n",
    "## Also measure the mean, max and min tree size\n",
    "sizes = [30, 40, 50, 60, 70]\n",
    "accuracies = []\n",
    "treeSizes = []\n",
    "for size in sizes:\n",
    "    data, X, y, rem = splitRandom(cols,size)\n",
    "    colNames = ['i1','i2','i3','i4','i5','i6','i7','i8','i9','i10','i11','i12','i13','i14','i15','i16']\n",
    "    rootNode = buildTree(GetBestIGNode(data,colNames))\n",
    "    accuracies.append(predictTestData(rootNode, rem))\n",
    "    treeSizes.append(treeSize(rootNode))\n",
    "print('Accuracies :', accuracies)\n",
    "print('Tree sizes :', treeSizes)\n",
    "print('mean accuracies :', np.mean(np.array(accuracies)) )\n",
    "print('maximum accuracy :', np.max(np.array(accuracies)) )\n",
    "print('minimum accuracies :', np.min(np.array(accuracies)) )\n",
    "print('mean sizes :', np.mean(np.array(treeSizes)) )\n",
    "print('maximum sizes :', np.max(np.array(treeSizes)) )\n",
    "print('minimum sizes :', np.min(np.array(treeSizes)) )"
   ]
  },
  {
   "cell_type": "code",
   "execution_count": null,
   "metadata": {},
   "outputs": [],
   "source": []
  }
 ]
}